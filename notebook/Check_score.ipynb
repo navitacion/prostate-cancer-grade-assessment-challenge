{
 "cells": [
  {
   "cell_type": "code",
   "execution_count": 1,
   "metadata": {},
   "outputs": [],
   "source": [
    "%matplotlib inline\n",
    "import os\n",
    "import numpy as np\n",
    "import pandas as pd\n",
    "import matplotlib.pyplot as plt\n",
    "import seaborn as sns\n",
    "import openslide\n",
    "\n",
    "pd.set_option('display.max_rows', None)\n",
    "pd.set_option('display.max_columns', None)"
   ]
  },
  {
   "cell_type": "code",
   "execution_count": 94,
   "metadata": {},
   "outputs": [],
   "source": [
    "df = pd.read_csv('../data/res_score_from_level_0.csv')\n",
    "df_org = pd.read_csv('../data/input/train.csv')"
   ]
  },
  {
   "cell_type": "code",
   "execution_count": 95,
   "metadata": {},
   "outputs": [
    {
     "data": {
      "text/html": [
       "<div>\n",
       "<style scoped>\n",
       "    .dataframe tbody tr th:only-of-type {\n",
       "        vertical-align: middle;\n",
       "    }\n",
       "\n",
       "    .dataframe tbody tr th {\n",
       "        vertical-align: top;\n",
       "    }\n",
       "\n",
       "    .dataframe thead th {\n",
       "        text-align: right;\n",
       "    }\n",
       "</style>\n",
       "<table border=\"1\" class=\"dataframe\">\n",
       "  <thead>\n",
       "    <tr style=\"text-align: right;\">\n",
       "      <th></th>\n",
       "      <th>image_id</th>\n",
       "      <th>score_0</th>\n",
       "      <th>score_1</th>\n",
       "      <th>score_2</th>\n",
       "      <th>score_3</th>\n",
       "      <th>score_4</th>\n",
       "      <th>score_5</th>\n",
       "    </tr>\n",
       "  </thead>\n",
       "  <tbody>\n",
       "    <tr>\n",
       "      <th>0</th>\n",
       "      <td>0018ae58b01bdadc8e347995b69f99aa</td>\n",
       "      <td>0.788974</td>\n",
       "      <td>0.163663</td>\n",
       "      <td>0.001350</td>\n",
       "      <td>0.000000</td>\n",
       "      <td>0.046013</td>\n",
       "      <td>0.0</td>\n",
       "    </tr>\n",
       "    <tr>\n",
       "      <th>1</th>\n",
       "      <td>004dd32d9cd167d9cc31c13b704498af</td>\n",
       "      <td>0.830243</td>\n",
       "      <td>0.162611</td>\n",
       "      <td>0.007146</td>\n",
       "      <td>0.000000</td>\n",
       "      <td>0.000000</td>\n",
       "      <td>0.0</td>\n",
       "    </tr>\n",
       "    <tr>\n",
       "      <th>2</th>\n",
       "      <td>0068d4c7529e34fd4c9da863ce01a161</td>\n",
       "      <td>0.851137</td>\n",
       "      <td>0.142319</td>\n",
       "      <td>0.006535</td>\n",
       "      <td>0.000009</td>\n",
       "      <td>0.000000</td>\n",
       "      <td>0.0</td>\n",
       "    </tr>\n",
       "    <tr>\n",
       "      <th>3</th>\n",
       "      <td>006f6aa35a78965c92fffd1fbd53a058</td>\n",
       "      <td>0.565261</td>\n",
       "      <td>0.313150</td>\n",
       "      <td>0.000000</td>\n",
       "      <td>0.023114</td>\n",
       "      <td>0.098475</td>\n",
       "      <td>0.0</td>\n",
       "    </tr>\n",
       "    <tr>\n",
       "      <th>4</th>\n",
       "      <td>007433133235efc27a39f11df6940829</td>\n",
       "      <td>0.912433</td>\n",
       "      <td>0.083391</td>\n",
       "      <td>0.004176</td>\n",
       "      <td>0.000000</td>\n",
       "      <td>0.000000</td>\n",
       "      <td>0.0</td>\n",
       "    </tr>\n",
       "  </tbody>\n",
       "</table>\n",
       "</div>"
      ],
      "text/plain": [
       "                           image_id   score_0   score_1   score_2   score_3  \\\n",
       "0  0018ae58b01bdadc8e347995b69f99aa  0.788974  0.163663  0.001350  0.000000   \n",
       "1  004dd32d9cd167d9cc31c13b704498af  0.830243  0.162611  0.007146  0.000000   \n",
       "2  0068d4c7529e34fd4c9da863ce01a161  0.851137  0.142319  0.006535  0.000009   \n",
       "3  006f6aa35a78965c92fffd1fbd53a058  0.565261  0.313150  0.000000  0.023114   \n",
       "4  007433133235efc27a39f11df6940829  0.912433  0.083391  0.004176  0.000000   \n",
       "\n",
       "    score_4  score_5  \n",
       "0  0.046013      0.0  \n",
       "1  0.000000      0.0  \n",
       "2  0.000000      0.0  \n",
       "3  0.098475      0.0  \n",
       "4  0.000000      0.0  "
      ]
     },
     "execution_count": 95,
     "metadata": {},
     "output_type": "execute_result"
    }
   ],
   "source": [
    "df.head()"
   ]
  },
  {
   "cell_type": "code",
   "execution_count": 96,
   "metadata": {},
   "outputs": [
    {
     "data": {
      "text/html": [
       "<div>\n",
       "<style scoped>\n",
       "    .dataframe tbody tr th:only-of-type {\n",
       "        vertical-align: middle;\n",
       "    }\n",
       "\n",
       "    .dataframe tbody tr th {\n",
       "        vertical-align: top;\n",
       "    }\n",
       "\n",
       "    .dataframe thead th {\n",
       "        text-align: right;\n",
       "    }\n",
       "</style>\n",
       "<table border=\"1\" class=\"dataframe\">\n",
       "  <thead>\n",
       "    <tr style=\"text-align: right;\">\n",
       "      <th></th>\n",
       "      <th>image_id</th>\n",
       "      <th>data_provider</th>\n",
       "      <th>isup_grade</th>\n",
       "      <th>gleason_score</th>\n",
       "    </tr>\n",
       "  </thead>\n",
       "  <tbody>\n",
       "    <tr>\n",
       "      <th>0</th>\n",
       "      <td>0005f7aaab2800f6170c399693a96917</td>\n",
       "      <td>karolinska</td>\n",
       "      <td>0</td>\n",
       "      <td>0+0</td>\n",
       "    </tr>\n",
       "    <tr>\n",
       "      <th>1</th>\n",
       "      <td>000920ad0b612851f8e01bcc880d9b3d</td>\n",
       "      <td>karolinska</td>\n",
       "      <td>0</td>\n",
       "      <td>0+0</td>\n",
       "    </tr>\n",
       "    <tr>\n",
       "      <th>2</th>\n",
       "      <td>0018ae58b01bdadc8e347995b69f99aa</td>\n",
       "      <td>radboud</td>\n",
       "      <td>4</td>\n",
       "      <td>4+4</td>\n",
       "    </tr>\n",
       "    <tr>\n",
       "      <th>3</th>\n",
       "      <td>001c62abd11fa4b57bf7a6c603a11bb9</td>\n",
       "      <td>karolinska</td>\n",
       "      <td>4</td>\n",
       "      <td>4+4</td>\n",
       "    </tr>\n",
       "    <tr>\n",
       "      <th>4</th>\n",
       "      <td>001d865e65ef5d2579c190a0e0350d8f</td>\n",
       "      <td>karolinska</td>\n",
       "      <td>0</td>\n",
       "      <td>0+0</td>\n",
       "    </tr>\n",
       "  </tbody>\n",
       "</table>\n",
       "</div>"
      ],
      "text/plain": [
       "                           image_id data_provider  isup_grade gleason_score\n",
       "0  0005f7aaab2800f6170c399693a96917    karolinska           0           0+0\n",
       "1  000920ad0b612851f8e01bcc880d9b3d    karolinska           0           0+0\n",
       "2  0018ae58b01bdadc8e347995b69f99aa       radboud           4           4+4\n",
       "3  001c62abd11fa4b57bf7a6c603a11bb9    karolinska           4           4+4\n",
       "4  001d865e65ef5d2579c190a0e0350d8f    karolinska           0           0+0"
      ]
     },
     "execution_count": 96,
     "metadata": {},
     "output_type": "execute_result"
    }
   ],
   "source": [
    "df_org.head()"
   ]
  },
  {
   "cell_type": "code",
   "execution_count": 97,
   "metadata": {},
   "outputs": [
    {
     "data": {
      "text/html": [
       "<div>\n",
       "<style scoped>\n",
       "    .dataframe tbody tr th:only-of-type {\n",
       "        vertical-align: middle;\n",
       "    }\n",
       "\n",
       "    .dataframe tbody tr th {\n",
       "        vertical-align: top;\n",
       "    }\n",
       "\n",
       "    .dataframe thead th {\n",
       "        text-align: right;\n",
       "    }\n",
       "</style>\n",
       "<table border=\"1\" class=\"dataframe\">\n",
       "  <thead>\n",
       "    <tr style=\"text-align: right;\">\n",
       "      <th></th>\n",
       "      <th>image_id</th>\n",
       "      <th>score_0</th>\n",
       "      <th>score_1</th>\n",
       "      <th>score_2</th>\n",
       "      <th>score_3</th>\n",
       "      <th>score_4</th>\n",
       "      <th>score_5</th>\n",
       "      <th>data_provider</th>\n",
       "      <th>isup_grade</th>\n",
       "      <th>gleason_score</th>\n",
       "    </tr>\n",
       "  </thead>\n",
       "  <tbody>\n",
       "    <tr>\n",
       "      <th>0</th>\n",
       "      <td>0018ae58b01bdadc8e347995b69f99aa</td>\n",
       "      <td>0.788974</td>\n",
       "      <td>0.163663</td>\n",
       "      <td>0.001350</td>\n",
       "      <td>0.000000</td>\n",
       "      <td>0.046013</td>\n",
       "      <td>0.0</td>\n",
       "      <td>radboud</td>\n",
       "      <td>4</td>\n",
       "      <td>4+4</td>\n",
       "    </tr>\n",
       "    <tr>\n",
       "      <th>1</th>\n",
       "      <td>004dd32d9cd167d9cc31c13b704498af</td>\n",
       "      <td>0.830243</td>\n",
       "      <td>0.162611</td>\n",
       "      <td>0.007146</td>\n",
       "      <td>0.000000</td>\n",
       "      <td>0.000000</td>\n",
       "      <td>0.0</td>\n",
       "      <td>radboud</td>\n",
       "      <td>1</td>\n",
       "      <td>3+3</td>\n",
       "    </tr>\n",
       "    <tr>\n",
       "      <th>2</th>\n",
       "      <td>0068d4c7529e34fd4c9da863ce01a161</td>\n",
       "      <td>0.851137</td>\n",
       "      <td>0.142319</td>\n",
       "      <td>0.006535</td>\n",
       "      <td>0.000009</td>\n",
       "      <td>0.000000</td>\n",
       "      <td>0.0</td>\n",
       "      <td>radboud</td>\n",
       "      <td>3</td>\n",
       "      <td>4+3</td>\n",
       "    </tr>\n",
       "    <tr>\n",
       "      <th>3</th>\n",
       "      <td>006f6aa35a78965c92fffd1fbd53a058</td>\n",
       "      <td>0.565261</td>\n",
       "      <td>0.313150</td>\n",
       "      <td>0.000000</td>\n",
       "      <td>0.023114</td>\n",
       "      <td>0.098475</td>\n",
       "      <td>0.0</td>\n",
       "      <td>radboud</td>\n",
       "      <td>3</td>\n",
       "      <td>4+3</td>\n",
       "    </tr>\n",
       "    <tr>\n",
       "      <th>4</th>\n",
       "      <td>007433133235efc27a39f11df6940829</td>\n",
       "      <td>0.912433</td>\n",
       "      <td>0.083391</td>\n",
       "      <td>0.004176</td>\n",
       "      <td>0.000000</td>\n",
       "      <td>0.000000</td>\n",
       "      <td>0.0</td>\n",
       "      <td>radboud</td>\n",
       "      <td>0</td>\n",
       "      <td>negative</td>\n",
       "    </tr>\n",
       "  </tbody>\n",
       "</table>\n",
       "</div>"
      ],
      "text/plain": [
       "                           image_id   score_0   score_1   score_2   score_3  \\\n",
       "0  0018ae58b01bdadc8e347995b69f99aa  0.788974  0.163663  0.001350  0.000000   \n",
       "1  004dd32d9cd167d9cc31c13b704498af  0.830243  0.162611  0.007146  0.000000   \n",
       "2  0068d4c7529e34fd4c9da863ce01a161  0.851137  0.142319  0.006535  0.000009   \n",
       "3  006f6aa35a78965c92fffd1fbd53a058  0.565261  0.313150  0.000000  0.023114   \n",
       "4  007433133235efc27a39f11df6940829  0.912433  0.083391  0.004176  0.000000   \n",
       "\n",
       "    score_4  score_5 data_provider  isup_grade gleason_score  \n",
       "0  0.046013      0.0       radboud           4           4+4  \n",
       "1  0.000000      0.0       radboud           1           3+3  \n",
       "2  0.000000      0.0       radboud           3           4+3  \n",
       "3  0.098475      0.0       radboud           3           4+3  \n",
       "4  0.000000      0.0       radboud           0      negative  "
      ]
     },
     "execution_count": 97,
     "metadata": {},
     "output_type": "execute_result"
    }
   ],
   "source": [
    "df = pd.merge(df, df_org, on='image_id', how='left')\n",
    "df.head()"
   ]
  },
  {
   "cell_type": "code",
   "execution_count": 98,
   "metadata": {},
   "outputs": [
    {
     "data": {
      "text/plain": [
       "(5058, 10)"
      ]
     },
     "execution_count": 98,
     "metadata": {},
     "output_type": "execute_result"
    }
   ],
   "source": [
    "df.shape"
   ]
  },
  {
   "cell_type": "code",
   "execution_count": 99,
   "metadata": {},
   "outputs": [],
   "source": [
    "def display_img(img_id, show_img=True, tiff_level=-1):\n",
    "    data_dir = '../data/input'\n",
    "    img_path = os.path.join(data_dir, 'train_images', f'{img_id}.tiff')\n",
    "    # Using Openslide\n",
    "    slide = openslide.OpenSlide(img_path)\n",
    "    # Set Properties  1: Point   2: Tiff Level   3: Viewing Dimension\n",
    "    # .level_count -> Get Tiff Level Count\n",
    "    # .level_dimensions -> Get Tiff Width, Height per Level\n",
    "    if tiff_level == -1:\n",
    "        patch = slide.read_region((0, 0), slide.level_count - 1, slide.level_dimensions[-1])\n",
    "    else:\n",
    "        patch = slide.read_region((0, 0), tiff_level, slide.level_dimensions[tiff_level])\n",
    "    \n",
    "    if show_img:\n",
    "        display(patch)\n",
    "        \n",
    "    # PIL -> ndarray\n",
    "    patch = np.asarray(patch)\n",
    "    # RGBA -> RGB\n",
    "    if patch.shape[-1] == 4:\n",
    "        patch = patch[:, :, :3]\n",
    "        \n",
    "    slide.close()\n",
    "    \n",
    "    return patch\n",
    "\n",
    "\n",
    "def display_mask(img_id, center='radboud', show_img=True, tiff_level=-1):\n",
    "    assert center in ['radboud', 'karolinska'], \"Please Set center=['radboud', 'karolinska']\"\n",
    "    data_dir = '../data/input'\n",
    "    img_path = os.path.join(data_dir, 'train_label_masks', f'{img_id}_mask.tiff')\n",
    "    # Using Openslide\n",
    "    slide = openslide.OpenSlide(img_path)\n",
    "    # Set Properties  1: Point   2: Tiff Level   3: Viewing Dimension\n",
    "    # .level_count -> Get Tiff Level Count\n",
    "    # .level_dimensions -> Get Tiff Width, Height per Level\n",
    "    if tiff_level == -1:\n",
    "        mask_data = slide.read_region((0, 0), slide.level_count - 1, slide.level_dimensions[-1])\n",
    "    else:\n",
    "        mask_data = slide.read_region((0, 0), tiff_level, slide.level_dimensions[tiff_level])\n",
    "    \n",
    "    mask_data = mask_data.split()[0]\n",
    "    # To show the masks we map the raw label values to RGB values\n",
    "    preview_palette = np.zeros(shape=768, dtype=int)\n",
    "    if center == 'radboud':\n",
    "        # Mapping: {0: background(Black), 1: stroma(Dark Gray), 2: benign epithelium(Light Gray), 3: Gleason 3(Pale Yellow), 4: Gleason 4(Orange), 5: Gleason 5(Red)}\n",
    "        preview_palette[0:18] = (np.array([0, 0, 0, 0.2, 0.2, 0.2, 0.4, 0.4, 0.4, 1, 1, 0.7, 1, 0.5, 0, 1, 0, 0]) * 255).astype(int)\n",
    "    elif center == 'karolinska':\n",
    "        # Mapping: {0: background(Black), 1: benign(Gray), 2: cancer(Red)}\n",
    "        preview_palette[0:9] = (np.array([0, 0, 0, 0.5, 0.5, 0.5, 1, 0, 0]) * 255).astype(int)\n",
    "    mask_data.putpalette(data=preview_palette.tolist())\n",
    "    mask_data = mask_data.convert(mode='RGB')\n",
    "    if show_img:\n",
    "        display(mask_data)\n",
    "        \n",
    "    # PIL -> ndarray\n",
    "    mask_data = np.asarray(mask_data)\n",
    "    # RGBA -> RGB\n",
    "    if mask_data.shape[-1] == 4:\n",
    "        mask_data = mask_data[:, :, :3]\n",
    "        \n",
    "    slide.close()\n",
    "    \n",
    "    return mask_data"
   ]
  },
  {
   "cell_type": "code",
   "execution_count": 100,
   "metadata": {},
   "outputs": [
    {
     "data": {
      "image/png": "[encoded data removed]",
      "text/plain": [
       "<PIL.Image.Image image mode=RGB size=336x1296 at 0x18147003788>"
      ]
     },
     "metadata": {},
     "output_type": "display_data"
    }
   ],
   "source": [
    "_ = display_mask(img_id='91939627c20f2e47fa4be433363bfd6d', center='radboud')"
   ]
  },
  {
   "cell_type": "code",
   "execution_count": 101,
   "metadata": {},
   "outputs": [
    {
     "data": {
      "image/png": "[encoded data removed]",
      "text/plain": [
       "<Figure size 864x864 with 6 Axes>"
      ]
     },
     "metadata": {
      "needs_background": "light"
     },
     "output_type": "display_data"
    }
   ],
   "source": [
    "# Check Score_3~5 ScatterPlot\n",
    "fig, axes = plt.subplots(nrows=3, ncols=2, figsize=(12, 12))\n",
    "for score, ax in zip(['3+4', '4+3', '3+5', '5+3', '4+5', '5+4'], axes.ravel()):\n",
    "\n",
    "    p = score.split('+')[0]\n",
    "    s = score.split('+')[1]\n",
    "    temp = df[df['gleason_score'] == score].reset_index(drop=True)\n",
    "    lim = max(temp[f'score_{p}'].max(), temp[f'score_{s}'].max())\n",
    "\n",
    "    sns.scatterplot(x=f'score_{p}', y=f'score_{s}', data=temp, ax=ax)\n",
    "    ax.set_xlim(0, lim+0.02)\n",
    "    ax.set_ylim(0, lim+0.02)\n",
    "    ax.set_title(score)\n",
    "    \n",
    "plt.tight_layout()\n",
    "plt.show()"
   ]
  },
  {
   "cell_type": "markdown",
   "metadata": {},
   "source": [
    "---\n",
    "### 3+4"
   ]
  },
  {
   "cell_type": "code",
   "execution_count": 102,
   "metadata": {},
   "outputs": [
    {
     "data": {
      "text/plain": [
       "(673, 10)"
      ]
     },
     "execution_count": 102,
     "metadata": {},
     "output_type": "execute_result"
    }
   ],
   "source": [
    "temp = df[df['gleason_score'] == '3+4']\n",
    "temp.shape"
   ]
  },
  {
   "cell_type": "code",
   "execution_count": 103,
   "metadata": {},
   "outputs": [
    {
     "data": {
      "text/plain": [
       "(0, 10)"
      ]
     },
     "execution_count": 103,
     "metadata": {},
     "output_type": "execute_result"
    }
   ],
   "source": [
    "temp[temp['score_5'] != 0].shape"
   ]
  },
  {
   "cell_type": "code",
   "execution_count": 104,
   "metadata": {},
   "outputs": [
    {
     "name": "stderr",
     "output_type": "stream",
     "text": [
      "d:\\python\\kaggle\\prosta~1\\venv~1\\lib\\site-packages\\ipykernel_launcher.py:2: SettingWithCopyWarning: \n",
      "A value is trying to be set on a copy of a slice from a DataFrame.\n",
      "Try using .loc[row_indexer,col_indexer] = value instead\n",
      "\n",
      "See the caveats in the documentation: https://pandas.pydata.org/pandas-docs/stable/user_guide/indexing.html#returning-a-view-versus-a-copy\n",
      "  \n"
     ]
    },
    {
     "data": {
      "text/plain": [
       "(143, 11)"
      ]
     },
     "execution_count": 104,
     "metadata": {},
     "output_type": "execute_result"
    }
   ],
   "source": [
    "temp = df[df['gleason_score'] == '3+4']\n",
    "temp['score_3_4'] = temp['score_3'] - temp['score_4']\n",
    "temp = temp[temp['score_3_4'] < -0.004].copy()\n",
    "\n",
    "\n",
    "temp = temp.sort_values(by='score_3_4').reset_index(drop=True)\n",
    "temp.shape"
   ]
  },
  {
   "cell_type": "code",
   "execution_count": 105,
   "metadata": {},
   "outputs": [
    {
     "name": "stderr",
     "output_type": "stream",
     "text": [
      "d:\\python\\kaggle\\prosta~1\\venv~1\\lib\\site-packages\\ipykernel_launcher.py:2: SettingWithCopyWarning: \n",
      "A value is trying to be set on a copy of a slice from a DataFrame.\n",
      "Try using .loc[row_indexer,col_indexer] = value instead\n",
      "\n",
      "See the caveats in the documentation: https://pandas.pydata.org/pandas-docs/stable/user_guide/indexing.html#returning-a-view-versus-a-copy\n",
      "  \n"
     ]
    },
    {
     "data": {
      "text/plain": [
       "(161, 11)"
      ]
     },
     "execution_count": 105,
     "metadata": {},
     "output_type": "execute_result"
    }
   ],
   "source": [
    "temp = df[df['gleason_score'] == '4+3']\n",
    "temp['score_4_3'] = temp['score_4'] - temp['score_3']\n",
    "temp = temp[temp['score_4_3'] < -0.004].copy()\n",
    "\n",
    "\n",
    "temp = temp.sort_values(by='score_4_3').reset_index(drop=True)\n",
    "temp.shape"
   ]
  },
  {
   "cell_type": "code",
   "execution_count": 106,
   "metadata": {},
   "outputs": [
    {
     "name": "stderr",
     "output_type": "stream",
     "text": [
      "d:\\python\\kaggle\\prosta~1\\venv~1\\lib\\site-packages\\ipykernel_launcher.py:2: SettingWithCopyWarning: \n",
      "A value is trying to be set on a copy of a slice from a DataFrame.\n",
      "Try using .loc[row_indexer,col_indexer] = value instead\n",
      "\n",
      "See the caveats in the documentation: https://pandas.pydata.org/pandas-docs/stable/user_guide/indexing.html#returning-a-view-versus-a-copy\n",
      "  \n"
     ]
    },
    {
     "data": {
      "text/plain": [
       "(90, 11)"
      ]
     },
     "execution_count": 106,
     "metadata": {},
     "output_type": "execute_result"
    }
   ],
   "source": [
    "temp = df[df['gleason_score'] == '4+5']\n",
    "temp['score_4_5'] = temp['score_4'] - temp['score_5']\n",
    "temp = temp[temp['score_4_5'] < -0.004].copy()\n",
    "\n",
    "\n",
    "temp = temp.sort_values(by='score_4_5').reset_index(drop=True)\n",
    "temp.shape"
   ]
  },
  {
   "cell_type": "code",
   "execution_count": 107,
   "metadata": {},
   "outputs": [
    {
     "name": "stderr",
     "output_type": "stream",
     "text": [
      "d:\\python\\kaggle\\prosta~1\\venv~1\\lib\\site-packages\\ipykernel_launcher.py:2: SettingWithCopyWarning: \n",
      "A value is trying to be set on a copy of a slice from a DataFrame.\n",
      "Try using .loc[row_indexer,col_indexer] = value instead\n",
      "\n",
      "See the caveats in the documentation: https://pandas.pydata.org/pandas-docs/stable/user_guide/indexing.html#returning-a-view-versus-a-copy\n",
      "  \n"
     ]
    },
    {
     "data": {
      "text/plain": [
       "(100, 11)"
      ]
     },
     "execution_count": 107,
     "metadata": {},
     "output_type": "execute_result"
    }
   ],
   "source": [
    "temp = df[df['gleason_score'] == '5+4']\n",
    "temp['score_5_4'] = temp['score_5'] - temp['score_4']\n",
    "temp = temp[temp['score_5_4'] < -0.004].copy()\n",
    "\n",
    "\n",
    "temp = temp.sort_values(by='score_5_4').reset_index(drop=True)\n",
    "temp.shape"
   ]
  },
  {
   "cell_type": "code",
   "execution_count": 108,
   "metadata": {},
   "outputs": [
    {
     "name": "stderr",
     "output_type": "stream",
     "text": [
      "d:\\python\\kaggle\\prosta~1\\venv~1\\lib\\site-packages\\ipykernel_launcher.py:2: SettingWithCopyWarning: \n",
      "A value is trying to be set on a copy of a slice from a DataFrame.\n",
      "Try using .loc[row_indexer,col_indexer] = value instead\n",
      "\n",
      "See the caveats in the documentation: https://pandas.pydata.org/pandas-docs/stable/user_guide/indexing.html#returning-a-view-versus-a-copy\n",
      "  \n"
     ]
    },
    {
     "data": {
      "text/plain": [
       "(18, 11)"
      ]
     },
     "execution_count": 108,
     "metadata": {},
     "output_type": "execute_result"
    }
   ],
   "source": [
    "temp = df[df['gleason_score'] == '3+5']\n",
    "temp['score_3_5'] = temp['score_3'] - temp['score_5']\n",
    "temp = temp[temp['score_3_5'] < -0.004].copy()\n",
    "\n",
    "\n",
    "temp = temp.sort_values(by='score_3_5').reset_index(drop=True)\n",
    "temp.shape"
   ]
  },
  {
   "cell_type": "code",
   "execution_count": 109,
   "metadata": {},
   "outputs": [
    {
     "name": "stderr",
     "output_type": "stream",
     "text": [
      "d:\\python\\kaggle\\prosta~1\\venv~1\\lib\\site-packages\\ipykernel_launcher.py:2: SettingWithCopyWarning: \n",
      "A value is trying to be set on a copy of a slice from a DataFrame.\n",
      "Try using .loc[row_indexer,col_indexer] = value instead\n",
      "\n",
      "See the caveats in the documentation: https://pandas.pydata.org/pandas-docs/stable/user_guide/indexing.html#returning-a-view-versus-a-copy\n",
      "  \n"
     ]
    },
    {
     "data": {
      "text/plain": [
       "(2, 11)"
      ]
     },
     "execution_count": 109,
     "metadata": {},
     "output_type": "execute_result"
    }
   ],
   "source": [
    "temp = df[df['gleason_score'] == '5+3']\n",
    "temp['score_5_3'] = temp['score_5'] - temp['score_3']\n",
    "temp = temp[temp['score_5_3'] < -0.004].copy()\n",
    "\n",
    "\n",
    "temp = temp.sort_values(by='score_5_3').reset_index(drop=True)\n",
    "temp.shape"
   ]
  },
  {
   "cell_type": "code",
   "execution_count": 110,
   "metadata": {},
   "outputs": [
    {
     "data": {
      "text/html": [
       "<div>\n",
       "<style scoped>\n",
       "    .dataframe tbody tr th:only-of-type {\n",
       "        vertical-align: middle;\n",
       "    }\n",
       "\n",
       "    .dataframe tbody tr th {\n",
       "        vertical-align: top;\n",
       "    }\n",
       "\n",
       "    .dataframe thead th {\n",
       "        text-align: right;\n",
       "    }\n",
       "</style>\n",
       "<table border=\"1\" class=\"dataframe\">\n",
       "  <thead>\n",
       "    <tr style=\"text-align: right;\">\n",
       "      <th></th>\n",
       "      <th>image_id</th>\n",
       "      <th>score_0</th>\n",
       "      <th>score_1</th>\n",
       "      <th>score_2</th>\n",
       "      <th>score_3</th>\n",
       "      <th>score_4</th>\n",
       "      <th>score_5</th>\n",
       "      <th>data_provider</th>\n",
       "      <th>isup_grade</th>\n",
       "      <th>gleason_score</th>\n",
       "      <th>score_5_3</th>\n",
       "    </tr>\n",
       "  </thead>\n",
       "  <tbody>\n",
       "    <tr>\n",
       "      <th>0</th>\n",
       "      <td>08b92dd5bd510ff336949f1042c11991</td>\n",
       "      <td>0.908982</td>\n",
       "      <td>0.071673</td>\n",
       "      <td>0.006729</td>\n",
       "      <td>0.011344</td>\n",
       "      <td>0.0</td>\n",
       "      <td>0.001272</td>\n",
       "      <td>radboud</td>\n",
       "      <td>4</td>\n",
       "      <td>5+3</td>\n",
       "      <td>-0.010071</td>\n",
       "    </tr>\n",
       "    <tr>\n",
       "      <th>1</th>\n",
       "      <td>72b46ce40040292c972e5c8fc84f857d</td>\n",
       "      <td>0.912270</td>\n",
       "      <td>0.069758</td>\n",
       "      <td>0.006289</td>\n",
       "      <td>0.008177</td>\n",
       "      <td>0.0</td>\n",
       "      <td>0.003506</td>\n",
       "      <td>radboud</td>\n",
       "      <td>4</td>\n",
       "      <td>5+3</td>\n",
       "      <td>-0.004671</td>\n",
       "    </tr>\n",
       "  </tbody>\n",
       "</table>\n",
       "</div>"
      ],
      "text/plain": [
       "                           image_id   score_0   score_1   score_2   score_3  \\\n",
       "0  08b92dd5bd510ff336949f1042c11991  0.908982  0.071673  0.006729  0.011344   \n",
       "1  72b46ce40040292c972e5c8fc84f857d  0.912270  0.069758  0.006289  0.008177   \n",
       "\n",
       "   score_4   score_5 data_provider  isup_grade gleason_score  score_5_3  \n",
       "0      0.0  0.001272       radboud           4           5+3  -0.010071  \n",
       "1      0.0  0.003506       radboud           4           5+3  -0.004671  "
      ]
     },
     "execution_count": 110,
     "metadata": {},
     "output_type": "execute_result"
    }
   ],
   "source": [
    "temp.head()"
   ]
  },
  {
   "cell_type": "code",
   "execution_count": null,
   "metadata": {},
   "outputs": [],
   "source": []
  },
  {
   "cell_type": "code",
   "execution_count": 111,
   "metadata": {},
   "outputs": [],
   "source": [
    "def check_wrong(df, th=-0.004):\n",
    "    _df = df.copy()\n",
    "    res = {}\n",
    "    \n",
    "    for score in ['3+4', '4+3', '3+5', '5+3', '4+5', '5+4']:\n",
    "        p = score.split('+')[0]\n",
    "        s = score.split('+')[1]\n",
    "        temp = df[df['gleason_score'] == score]\n",
    "        # 優位と劣勢の差分を取る\n",
    "        temp[f'score_{p}_{s}'] = temp[f'score_{p}'] - temp[f'score_{s}']\n",
    "        # 差分がマイナスならスコアが間違っている\n",
    "        temp = temp[temp[f'score_{p}_{s}'] < th].reset_index(drop=True)\n",
    "        \n",
    "        for k in temp['image_id']:\n",
    "            res[k] = s + '+' + p\n",
    "            \n",
    "    # 極端にガンの部分が少ない場合は削除する\n",
    "    temp = df.copy()\n",
    "    temp['score_345'] = temp['score_3'] + temp['score_4'] + temp['score_5']\n",
    "    temp = temp[temp['score_345'] < 0.0003].reset_index(drop=True)\n",
    "    \n",
    "    for k in temp['image_id']:\n",
    "        res[k] = '0+0'\n",
    "        \n",
    "    \n",
    "    # gleason_score = \"negative\"を変換\n",
    "    temp = df.copy()\n",
    "    temp = temp[temp['gleason_score'] == 'negative'].reset_index(drop=True)\n",
    "    \n",
    "    for k in temp['image_id']:\n",
    "        res[k] = '0+0'\n",
    "    \n",
    "            \n",
    "    return res"
   ]
  },
  {
   "cell_type": "code",
   "execution_count": 112,
   "metadata": {},
   "outputs": [
    {
     "name": "stderr",
     "output_type": "stream",
     "text": [
      "d:\\python\\kaggle\\prosta~1\\venv~1\\lib\\site-packages\\ipykernel_launcher.py:10: SettingWithCopyWarning: \n",
      "A value is trying to be set on a copy of a slice from a DataFrame.\n",
      "Try using .loc[row_indexer,col_indexer] = value instead\n",
      "\n",
      "See the caveats in the documentation: https://pandas.pydata.org/pandas-docs/stable/user_guide/indexing.html#returning-a-view-versus-a-copy\n",
      "  # Remove the CWD from sys.path while we load stuff.\n"
     ]
    },
    {
     "data": {
      "text/plain": [
       "1599"
      ]
     },
     "execution_count": 112,
     "metadata": {},
     "output_type": "execute_result"
    }
   ],
   "source": [
    "res = check_wrong(df)\n",
    "\n",
    "len(res)"
   ]
  },
  {
   "cell_type": "code",
   "execution_count": 113,
   "metadata": {},
   "outputs": [],
   "source": [
    "df_org = pd.read_csv('../data/input/train.csv')\n",
    "new_train = df_org.copy()\n",
    "\n",
    "\n",
    "new_train['new'] = new_train['image_id'].map(res)\n",
    "\n",
    "\n",
    "\n",
    "def rep_score(row):\n",
    "    if row['new'] is np.nan:\n",
    "        return row['gleason_score']\n",
    "    else:\n",
    "        return row['new']\n",
    "    \n",
    "new_train['new'] = new_train.apply(rep_score, axis=1)\n",
    "\n",
    "\n",
    "\n",
    "rep_dict = {\n",
    "    'negative': 0,\n",
    "    '0+0': 0,\n",
    "    '3+3': 1,\n",
    "    '3+4': 2,\n",
    "    '4+3': 3,\n",
    "    '4+4': 4,\n",
    "    '3+5': 4,\n",
    "    '5+3': 4,\n",
    "    '4+5': 5,\n",
    "    '5+4': 5,\n",
    "    '5+5': 5\n",
    "}\n",
    "\n",
    "new_train['new_grade'] = new_train['new'].map(rep_dict)\n",
    "\n",
    "new_train.drop(['new', 'isup_grade'], axis=1, inplace=True)\n",
    "new_train = new_train.rename(columns={'new_grade': 'isup_grade'})\n",
    "new_train['isup_grade'] = new_train['isup_grade'].astype(int)\n",
    "\n",
    "new_train.to_csv('../data/input/modified_train.csv', index=False)"
   ]
  },
  {
   "cell_type": "code",
   "execution_count": 114,
   "metadata": {},
   "outputs": [
    {
     "data": {
      "text/html": [
       "<div>\n",
       "<style scoped>\n",
       "    .dataframe tbody tr th:only-of-type {\n",
       "        vertical-align: middle;\n",
       "    }\n",
       "\n",
       "    .dataframe tbody tr th {\n",
       "        vertical-align: top;\n",
       "    }\n",
       "\n",
       "    .dataframe thead th {\n",
       "        text-align: right;\n",
       "    }\n",
       "</style>\n",
       "<table border=\"1\" class=\"dataframe\">\n",
       "  <thead>\n",
       "    <tr style=\"text-align: right;\">\n",
       "      <th></th>\n",
       "      <th>image_id</th>\n",
       "      <th>data_provider</th>\n",
       "      <th>gleason_score</th>\n",
       "      <th>isup_grade</th>\n",
       "    </tr>\n",
       "  </thead>\n",
       "  <tbody>\n",
       "    <tr>\n",
       "      <th>0</th>\n",
       "      <td>0005f7aaab2800f6170c399693a96917</td>\n",
       "      <td>karolinska</td>\n",
       "      <td>0+0</td>\n",
       "      <td>0</td>\n",
       "    </tr>\n",
       "    <tr>\n",
       "      <th>1</th>\n",
       "      <td>000920ad0b612851f8e01bcc880d9b3d</td>\n",
       "      <td>karolinska</td>\n",
       "      <td>0+0</td>\n",
       "      <td>0</td>\n",
       "    </tr>\n",
       "    <tr>\n",
       "      <th>2</th>\n",
       "      <td>0018ae58b01bdadc8e347995b69f99aa</td>\n",
       "      <td>radboud</td>\n",
       "      <td>4+4</td>\n",
       "      <td>4</td>\n",
       "    </tr>\n",
       "    <tr>\n",
       "      <th>3</th>\n",
       "      <td>001c62abd11fa4b57bf7a6c603a11bb9</td>\n",
       "      <td>karolinska</td>\n",
       "      <td>4+4</td>\n",
       "      <td>4</td>\n",
       "    </tr>\n",
       "    <tr>\n",
       "      <th>4</th>\n",
       "      <td>001d865e65ef5d2579c190a0e0350d8f</td>\n",
       "      <td>karolinska</td>\n",
       "      <td>0+0</td>\n",
       "      <td>0</td>\n",
       "    </tr>\n",
       "  </tbody>\n",
       "</table>\n",
       "</div>"
      ],
      "text/plain": [
       "                           image_id data_provider gleason_score  isup_grade\n",
       "0  0005f7aaab2800f6170c399693a96917    karolinska           0+0           0\n",
       "1  000920ad0b612851f8e01bcc880d9b3d    karolinska           0+0           0\n",
       "2  0018ae58b01bdadc8e347995b69f99aa       radboud           4+4           4\n",
       "3  001c62abd11fa4b57bf7a6c603a11bb9    karolinska           4+4           4\n",
       "4  001d865e65ef5d2579c190a0e0350d8f    karolinska           0+0           0"
      ]
     },
     "execution_count": 114,
     "metadata": {},
     "output_type": "execute_result"
    }
   ],
   "source": [
    "new_train.head()"
   ]
  },
  {
   "cell_type": "code",
   "execution_count": 115,
   "metadata": {},
   "outputs": [
    {
     "data": {
      "text/html": [
       "<div>\n",
       "<style scoped>\n",
       "    .dataframe tbody tr th:only-of-type {\n",
       "        vertical-align: middle;\n",
       "    }\n",
       "\n",
       "    .dataframe tbody tr th {\n",
       "        vertical-align: top;\n",
       "    }\n",
       "\n",
       "    .dataframe thead th {\n",
       "        text-align: right;\n",
       "    }\n",
       "</style>\n",
       "<table border=\"1\" class=\"dataframe\">\n",
       "  <thead>\n",
       "    <tr style=\"text-align: right;\">\n",
       "      <th></th>\n",
       "      <th>image_id</th>\n",
       "      <th>data_provider</th>\n",
       "      <th>gleason_score</th>\n",
       "      <th>isup_grade</th>\n",
       "    </tr>\n",
       "  </thead>\n",
       "  <tbody>\n",
       "  </tbody>\n",
       "</table>\n",
       "</div>"
      ],
      "text/plain": [
       "Empty DataFrame\n",
       "Columns: [image_id, data_provider, gleason_score, isup_grade]\n",
       "Index: []"
      ]
     },
     "execution_count": 115,
     "metadata": {},
     "output_type": "execute_result"
    }
   ],
   "source": [
    "new_train[new_train['isup_grade'].isnull()]"
   ]
  },
  {
   "cell_type": "code",
   "execution_count": null,
   "metadata": {},
   "outputs": [],
   "source": []
  }
 ],
 "metadata": {
  "kernelspec": {
   "display_name": "Python 3",
   "language": "python",
   "name": "python3"
  },
  "language_info": {
   "codemirror_mode": {
    "name": "ipython",
    "version": 3
   },
   "file_extension": ".py",
   "mimetype": "text/x-python",
   "name": "python",
   "nbconvert_exporter": "python",
   "pygments_lexer": "ipython3",
   "version": "3.7.4"
  }
 },
 "nbformat": 4,
 "nbformat_minor": 4
}
